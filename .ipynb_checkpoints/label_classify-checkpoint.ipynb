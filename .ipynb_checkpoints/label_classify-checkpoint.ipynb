{
 "cells": [
  {
   "cell_type": "code",
   "execution_count": 1,
   "metadata": {
    "collapsed": true
   },
   "outputs": [],
   "source": [
    "import pandas as pd"
   ]
  },
  {
   "cell_type": "code",
   "execution_count": 2,
   "metadata": {
    "collapsed": false
   },
   "outputs": [],
   "source": [
    "alldata = pd.read_excel('./input.xlsx',header = None)"
   ]
  },
  {
   "cell_type": "code",
   "execution_count": 3,
   "metadata": {
    "collapsed": false
   },
   "outputs": [],
   "source": [
    "alldata.to_csv('./input.csv', header = None, index = None, encoding = 'utf-8')"
   ]
  },
  {
   "cell_type": "code",
   "execution_count": 4,
   "metadata": {
    "collapsed": false
   },
   "outputs": [],
   "source": [
    "with open('./input.csv','r') as all:\n",
    "    allsymbols = []\n",
    "    for line in all:\n",
    "        eachone = line.split(',')\n",
    "        for i in eachone:\n",
    "            if len(str(i)) > 1:\n",
    "                allsymbols.append(i.strip('\\n'))\n",
    "    allsymbol = set(allsymbols)\n",
    "    allsymb = list( allsymbol )"
   ]
  },
  {
   "cell_type": "code",
   "execution_count": 5,
   "metadata": {
    "collapsed": false,
    "scrolled": true
   },
   "outputs": [],
   "source": [
    "with open('./input.csv','r') as all:\n",
    "    final = {}\n",
    "    final[0] = allsymb\n",
    "    key=0\n",
    "    for line in all:\n",
    "        key = key +1\n",
    "        values = line.split(',')\n",
    "        everylist = [0] * len(allsymb)\n",
    "        for value in values:\n",
    "            if len(str(value)) > 1:\n",
    "                location = allsymb.index(value.strip())\n",
    "                everylist[location] = 1\n",
    "                final[key] = everylist"
   ]
  },
  {
   "cell_type": "code",
   "execution_count": 6,
   "metadata": {
    "collapsed": true
   },
   "outputs": [],
   "source": [
    "with open( 'output.tsv', 'w' ) as f:\n",
    "    for key, values in sorted( final.items() ):\n",
    "        f.write( str(key) + '\\t' )\n",
    "        for value in values :\n",
    "            f.write( str(value) + '\\t' )\n",
    "        f.write('\\n')"
   ]
  },
  {
   "cell_type": "code",
   "execution_count": null,
   "metadata": {
    "collapsed": true
   },
   "outputs": [],
   "source": []
  }
 ],
 "metadata": {
  "anaconda-cloud": {},
  "kernelspec": {
   "display_name": "Python [dato-env]",
   "language": "python",
   "name": "Python [dato-env]"
  },
  "language_info": {
   "codemirror_mode": {
    "name": "ipython",
    "version": 2
   },
   "file_extension": ".py",
   "mimetype": "text/x-python",
   "name": "python",
   "nbconvert_exporter": "python",
   "pygments_lexer": "ipython2",
   "version": "2.7.11"
  }
 },
 "nbformat": 4,
 "nbformat_minor": 0
}
