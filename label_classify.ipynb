{
 "cells": [
  {
   "cell_type": "markdown",
   "metadata": {},
   "source": [
    "# transform data "
   ]
  },
  {
   "cell_type": "code",
   "execution_count": 13,
   "metadata": {
    "collapsed": true
   },
   "outputs": [],
   "source": [
    "import pandas as pd"
   ]
  },
  {
   "cell_type": "code",
   "execution_count": 14,
   "metadata": {
    "collapsed": false
   },
   "outputs": [],
   "source": [
    "alldata = pd.read_excel('./input_test.xlsx',header = None)"
   ]
  },
  {
   "cell_type": "code",
   "execution_count": 15,
   "metadata": {
    "collapsed": false
   },
   "outputs": [],
   "source": [
    "alldata.to_csv('./input_test.csv', header = None, index = None, encoding = 'utf-8')"
   ]
  },
  {
   "cell_type": "markdown",
   "metadata": {
    "collapsed": true
   },
   "source": [
    "# 取所有不重复的病症为一个list,作为结果的列名，allsymb\n",
    "# creat a list(allsymb) as colname in the result"
   ]
  },
  {
   "cell_type": "code",
   "execution_count": 16,
   "metadata": {
    "collapsed": false
   },
   "outputs": [],
   "source": [
    "with open('./input_test.csv','r') as all:\n",
    "    allsymbols = []\n",
    "    for line in all:\n",
    "        eachone = line.split(',')\n",
    "        for i in eachone:\n",
    "            if len(str(i)) > 1:\n",
    "                allsymbols.append(i.strip('\\n'))\n",
    "    allsymbol = set(allsymbols)\n",
    "    allsymb = list( allsymbol )"
   ]
  },
  {
   "cell_type": "markdown",
   "metadata": {},
   "source": [
    "# 定义一个dict，每个key－value对应一行数据，key[0]对应不同symbol，其他value为1表示有此病症，0则没有\n",
    "# creat a dict, every key－value stand for a patient, key[0] is the colname(different symbols)"
   ]
  },
  {
   "cell_type": "code",
   "execution_count": 17,
   "metadata": {
    "collapsed": false,
    "scrolled": true
   },
   "outputs": [],
   "source": [
    "with open('./input_test.csv','r') as all:\n",
    "    final = {}\n",
    "    final[0] = allsymb\n",
    "    key=0\n",
    "    for line in all:\n",
    "        key = key +1\n",
    "        values = line.split(',')\n",
    "        everylist = [0] * len(allsymb)\n",
    "        for value in values:\n",
    "            if len(str(value)) > 1:\n",
    "                location = allsymb.index(value.strip())\n",
    "                everylist[location] = 1\n",
    "                final[key] = everylist"
   ]
  },
  {
   "cell_type": "code",
   "execution_count": 18,
   "metadata": {
    "collapsed": true
   },
   "outputs": [],
   "source": [
    "with open( 'output_test.tsv', 'w' ) as f:\n",
    "    for key, values in sorted( final.items() ):\n",
    "        f.write( str(key) + '\\t' )\n",
    "        for value in values :\n",
    "            f.write( str(value) + '\\t' )\n",
    "        f.write('\\n')"
   ]
  },
  {
   "cell_type": "code",
   "execution_count": null,
   "metadata": {
    "collapsed": true
   },
   "outputs": [],
   "source": []
  }
 ],
 "metadata": {
  "anaconda-cloud": {},
  "kernelspec": {
   "display_name": "Python [dato-env]",
   "language": "python",
   "name": "Python [dato-env]"
  },
  "language_info": {
   "codemirror_mode": {
    "name": "ipython",
    "version": 2
   },
   "file_extension": ".py",
   "mimetype": "text/x-python",
   "name": "python",
   "nbconvert_exporter": "python",
   "pygments_lexer": "ipython2",
   "version": "2.7.11"
  }
 },
 "nbformat": 4,
 "nbformat_minor": 0
}
